{
 "cells": [
  {
   "cell_type": "code",
   "execution_count": 2,
   "id": "8accd1c4-fba7-4462-a942-4a5ed4433cbf",
   "metadata": {},
   "outputs": [],
   "source": [
    "import pandas as pd\n",
    "import time\n",
    "from datasets import load_dataset\n",
    "data = load_dataset(\"stanfordnlp/imdb\")"
   ]
  },
  {
   "cell_type": "markdown",
   "id": "617f6d2e-a893-4fd0-8936-0b8864211a26",
   "metadata": {},
   "source": [
    "Lets see what kind of data I am working with here and see if I can get it into a pandas dataframe."
   ]
  },
  {
   "cell_type": "code",
   "execution_count": 3,
   "id": "723c4877-bae4-406f-8773-45efed3e1a69",
   "metadata": {},
   "outputs": [
    {
     "data": {
      "text/plain": [
       "datasets.dataset_dict.DatasetDict"
      ]
     },
     "metadata": {},
     "output_type": "display_data"
    },
    {
     "data": {
      "text/plain": [
       "DatasetDict({\n",
       "    train: Dataset({\n",
       "        features: ['text', 'label'],\n",
       "        num_rows: 25000\n",
       "    })\n",
       "    test: Dataset({\n",
       "        features: ['text', 'label'],\n",
       "        num_rows: 25000\n",
       "    })\n",
       "    unsupervised: Dataset({\n",
       "        features: ['text', 'label'],\n",
       "        num_rows: 50000\n",
       "    })\n",
       "})"
      ]
     },
     "metadata": {},
     "output_type": "display_data"
    }
   ],
   "source": [
    "display(type(data))\n",
    "display(data)\n",
    "train_data = pd.DataFrame(data['train'])\n",
    "test_data = pd.DataFrame(data['test'])\n",
    "# display(\"Training Data: \", train_data.head())\n",
    "# display(\"Testing Data: \", test_data.head())"
   ]
  },
  {
   "cell_type": "markdown",
   "id": "ce7ab246-231f-48ce-bf54-abe1fae14a36",
   "metadata": {},
   "source": [
    "Check distribution of positive/negative labels, confirm what is in the instructions"
   ]
  },
  {
   "cell_type": "code",
   "execution_count": 3,
   "id": "2f4fdef5-fde9-4e87-b8cd-828ed5a70450",
   "metadata": {},
   "outputs": [],
   "source": [
    "# display(train_data['label'].value_counts())"
   ]
  },
  {
   "cell_type": "markdown",
   "id": "b93b6d57-1a0a-40b6-a8c4-1532a01a77c0",
   "metadata": {},
   "source": [
    "Even data distribution, no SMOTE algorithm"
   ]
  },
  {
   "cell_type": "markdown",
   "id": "5a6c0400-d54f-441c-8a89-99398fa0f0e3",
   "metadata": {},
   "source": [
    "check null"
   ]
  },
  {
   "cell_type": "code",
   "execution_count": 4,
   "id": "f42d542e-9b85-48c4-a285-f11a997de828",
   "metadata": {},
   "outputs": [],
   "source": [
    "# print(train_data.isnull().sum())"
   ]
  },
  {
   "cell_type": "markdown",
   "id": "4810d3d1-3655-400a-9a48-af8492a7d112",
   "metadata": {},
   "source": [
    "No nulls is good nulls"
   ]
  },
  {
   "cell_type": "code",
   "execution_count": 5,
   "id": "94af0ed9-4168-4feb-a333-6774a2d73008",
   "metadata": {},
   "outputs": [],
   "source": [
    "# train_data['length'] = train_data['text'].apply(len)\n",
    "# print(train_data['length'].describe())"
   ]
  },
  {
   "cell_type": "code",
   "execution_count": 6,
   "id": "24c26826-14a6-41cb-a953-6a429208d690",
   "metadata": {},
   "outputs": [],
   "source": [
    "# import matplotlib.pyplot as plt\n",
    "# import seaborn as sns\n",
    "# sns.histplot(train_data['length'], bins=30)\n",
    "# plt.title('Distribution of Review Lengths')\n",
    "# plt.xlabel('Length of Review')\n",
    "# plt.ylabel('Frequency')\n",
    "# plt.show()"
   ]
  },
  {
   "cell_type": "code",
   "execution_count": 7,
   "id": "9c5be4a4-b464-45a9-9e08-d39528e9aa39",
   "metadata": {},
   "outputs": [],
   "source": [
    "# from wordcloud import WordCloud\n",
    "\n",
    "# positive_reviews = ' '.join(train_data[train_data['label'] == 1]['text'])\n",
    "# negative_reviews = ' '.join(train_data[train_data['label'] == 0]['text'])\n",
    "\n",
    "# wordcloud_positive = WordCloud(width=800, height=400).generate(positive_reviews)\n",
    "# wordcloud_negative = WordCloud(width=800, height=400).generate(negative_reviews)\n",
    "\n",
    "# plt.figure(figsize=(12, 6))\n",
    "# plt.subplot(1, 2, 1)\n",
    "# plt.imshow(wordcloud_positive, interpolation='bilinear')\n",
    "# plt.axis('off')\n",
    "# plt.title('Positive Reviews')\n",
    "\n",
    "# plt.subplot(1, 2, 2)\n",
    "# plt.imshow(wordcloud_negative, interpolation='bilinear')\n",
    "# plt.axis('off')\n",
    "# plt.title('Negative Reviews')\n",
    "\n",
    "# plt.show()"
   ]
  },
  {
   "cell_type": "markdown",
   "id": "2308bb1e-d8d1-4a5d-be57-49a6fbcece00",
   "metadata": {},
   "source": [
    "did the wordcloud becaus i like them, not because they will be useful here, but I need to see what br is. Most likely a newline break tag"
   ]
  },
  {
   "cell_type": "code",
   "execution_count": 4,
   "id": "6a44f201-d91f-4b29-86d2-3e06bcb27558",
   "metadata": {},
   "outputs": [
    {
     "data": {
      "text/plain": [
       "'Training Data: '"
      ]
     },
     "metadata": {},
     "output_type": "display_data"
    },
    {
     "data": {
      "text/html": [
       "<div>\n",
       "<style scoped>\n",
       "    .dataframe tbody tr th:only-of-type {\n",
       "        vertical-align: middle;\n",
       "    }\n",
       "\n",
       "    .dataframe tbody tr th {\n",
       "        vertical-align: top;\n",
       "    }\n",
       "\n",
       "    .dataframe thead th {\n",
       "        text-align: right;\n",
       "    }\n",
       "</style>\n",
       "<table border=\"1\" class=\"dataframe\">\n",
       "  <thead>\n",
       "    <tr style=\"text-align: right;\">\n",
       "      <th></th>\n",
       "      <th>text</th>\n",
       "      <th>label</th>\n",
       "    </tr>\n",
       "  </thead>\n",
       "  <tbody>\n",
       "    <tr>\n",
       "      <th>0</th>\n",
       "      <td>I rented I AM CURIOUS-YELLOW from my video store because of all the controversy that surrounded it when it was first released in 1967. I also heard that at first it was seized by U.S. customs if it ever tried to enter this country, therefore being a fan of films considered \"controversial\" I really had to see this for myself.&lt;br /&gt;&lt;br /&gt;The plot is centered around a young Swedish drama student named Lena who wants to learn everything she can about life. In particular she wants to focus her attentions to making some sort of documentary on what the average Swede thought about certain political issues such as the Vietnam War and race issues in the United States. In between asking politicians and ordinary denizens of Stockholm about their opinions on politics, she has sex with her drama teacher, classmates, and married men.&lt;br /&gt;&lt;br /&gt;What kills me about I AM CURIOUS-YELLOW is that 40 years ago, this was considered pornographic. Really, the sex and nudity scenes are few and far between, even then it's not shot like some cheaply made porno. While my countrymen mind find it shocking, in reality sex and nudity are a major staple in Swedish cinema. Even Ingmar Bergman, arguably their answer to good old boy John Ford, had sex scenes in his films.&lt;br /&gt;&lt;br /&gt;I do commend the filmmakers for the fact that any sex shown in the film is shown for artistic purposes rather than just to shock people and make money to be shown in pornographic theaters in America. I AM CURIOUS-YELLOW is a good film for anyone wanting to study the meat and potatoes (no pun intended) of Swedish cinema. But really, this film doesn't have much of a plot.</td>\n",
       "      <td>0</td>\n",
       "    </tr>\n",
       "  </tbody>\n",
       "</table>\n",
       "</div>"
      ],
      "text/plain": [
       "                                                                                                                                                                                                                                                                                                                                                                                                                                                                                                                                                                                                                                                                                                                                                                                                                                                                                                                                                                                                                                                                                                                                                                                                                                                                                                                                                                                                                                                                                                                                                                                                                                                                                                       text  \\\n",
       "0  I rented I AM CURIOUS-YELLOW from my video store because of all the controversy that surrounded it when it was first released in 1967. I also heard that at first it was seized by U.S. customs if it ever tried to enter this country, therefore being a fan of films considered \"controversial\" I really had to see this for myself.<br /><br />The plot is centered around a young Swedish drama student named Lena who wants to learn everything she can about life. In particular she wants to focus her attentions to making some sort of documentary on what the average Swede thought about certain political issues such as the Vietnam War and race issues in the United States. In between asking politicians and ordinary denizens of Stockholm about their opinions on politics, she has sex with her drama teacher, classmates, and married men.<br /><br />What kills me about I AM CURIOUS-YELLOW is that 40 years ago, this was considered pornographic. Really, the sex and nudity scenes are few and far between, even then it's not shot like some cheaply made porno. While my countrymen mind find it shocking, in reality sex and nudity are a major staple in Swedish cinema. Even Ingmar Bergman, arguably their answer to good old boy John Ford, had sex scenes in his films.<br /><br />I do commend the filmmakers for the fact that any sex shown in the film is shown for artistic purposes rather than just to shock people and make money to be shown in pornographic theaters in America. I AM CURIOUS-YELLOW is a good film for anyone wanting to study the meat and potatoes (no pun intended) of Swedish cinema. But really, this film doesn't have much of a plot.   \n",
       "\n",
       "   label  \n",
       "0      0  "
      ]
     },
     "metadata": {},
     "output_type": "display_data"
    }
   ],
   "source": [
    "pd.set_option('display.max_colwidth', None) # https://stackoverflow.com/questions/25351968/how-can-i-display-full-non-truncated-dataframe-information-in-html-when-conver\n",
    "display(\"Training Data: \", train_data.head(1))"
   ]
  },
  {
   "cell_type": "markdown",
   "id": "d9947a34-d4d5-4f3c-a613-1f62a983018c",
   "metadata": {},
   "source": [
    "nailed it, remove them from training and testing"
   ]
  },
  {
   "cell_type": "code",
   "execution_count": 5,
   "id": "e459d087-03fc-4f62-bd0b-fa4f259f4509",
   "metadata": {},
   "outputs": [
    {
     "data": {
      "text/plain": [
       "'Training Data: '"
      ]
     },
     "metadata": {},
     "output_type": "display_data"
    },
    {
     "data": {
      "text/html": [
       "<div>\n",
       "<style scoped>\n",
       "    .dataframe tbody tr th:only-of-type {\n",
       "        vertical-align: middle;\n",
       "    }\n",
       "\n",
       "    .dataframe tbody tr th {\n",
       "        vertical-align: top;\n",
       "    }\n",
       "\n",
       "    .dataframe thead th {\n",
       "        text-align: right;\n",
       "    }\n",
       "</style>\n",
       "<table border=\"1\" class=\"dataframe\">\n",
       "  <thead>\n",
       "    <tr style=\"text-align: right;\">\n",
       "      <th></th>\n",
       "      <th>text</th>\n",
       "      <th>label</th>\n",
       "    </tr>\n",
       "  </thead>\n",
       "  <tbody>\n",
       "    <tr>\n",
       "      <th>0</th>\n",
       "      <td>I rented I AM CURIOUS-YELLOW from my video store because of all the controversy that surrounded it when it was first released in 1967. I also heard that at first it was seized by U.S. customs if it ever tried to enter this country, therefore being a fan of films considered \"controversial\" I really had to see this for myself.  The plot is centered around a young Swedish drama student named Lena who wants to learn everything she can about life. In particular she wants to focus her attentions to making some sort of documentary on what the average Swede thought about certain political issues such as the Vietnam War and race issues in the United States. In between asking politicians and ordinary denizens of Stockholm about their opinions on politics, she has sex with her drama teacher, classmates, and married men.  What kills me about I AM CURIOUS-YELLOW is that 40 years ago, this was considered pornographic. Really, the sex and nudity scenes are few and far between, even then it's not shot like some cheaply made porno. While my countrymen mind find it shocking, in reality sex and nudity are a major staple in Swedish cinema. Even Ingmar Bergman, arguably their answer to good old boy John Ford, had sex scenes in his films.  I do commend the filmmakers for the fact that any sex shown in the film is shown for artistic purposes rather than just to shock people and make money to be shown in pornographic theaters in America. I AM CURIOUS-YELLOW is a good film for anyone wanting to study the meat and potatoes (no pun intended) of Swedish cinema. But really, this film doesn't have much of a plot.</td>\n",
       "      <td>0</td>\n",
       "    </tr>\n",
       "  </tbody>\n",
       "</table>\n",
       "</div>"
      ],
      "text/plain": [
       "                                                                                                                                                                                                                                                                                                                                                                                                                                                                                                                                                                                                                                                                                                                                                                                                                                                                                                                                                                                                                                                                                                                                                                                                                                                                                                                                                                                                                                                                                                                                                                                                                                                                         text  \\\n",
       "0  I rented I AM CURIOUS-YELLOW from my video store because of all the controversy that surrounded it when it was first released in 1967. I also heard that at first it was seized by U.S. customs if it ever tried to enter this country, therefore being a fan of films considered \"controversial\" I really had to see this for myself.  The plot is centered around a young Swedish drama student named Lena who wants to learn everything she can about life. In particular she wants to focus her attentions to making some sort of documentary on what the average Swede thought about certain political issues such as the Vietnam War and race issues in the United States. In between asking politicians and ordinary denizens of Stockholm about their opinions on politics, she has sex with her drama teacher, classmates, and married men.  What kills me about I AM CURIOUS-YELLOW is that 40 years ago, this was considered pornographic. Really, the sex and nudity scenes are few and far between, even then it's not shot like some cheaply made porno. While my countrymen mind find it shocking, in reality sex and nudity are a major staple in Swedish cinema. Even Ingmar Bergman, arguably their answer to good old boy John Ford, had sex scenes in his films.  I do commend the filmmakers for the fact that any sex shown in the film is shown for artistic purposes rather than just to shock people and make money to be shown in pornographic theaters in America. I AM CURIOUS-YELLOW is a good film for anyone wanting to study the meat and potatoes (no pun intended) of Swedish cinema. But really, this film doesn't have much of a plot.   \n",
       "\n",
       "   label  \n",
       "0      0  "
      ]
     },
     "metadata": {},
     "output_type": "display_data"
    }
   ],
   "source": [
    "train_data['text'] = train_data['text'].apply(lambda x: x.replace(\"<br />\",\" \"))\n",
    "test_data['text'] = test_data['text'].apply(lambda x: x.replace(\"<br />\",\" \"))\n",
    "display(\"Training Data: \", train_data.head(1))"
   ]
  },
  {
   "cell_type": "markdown",
   "id": "0e03a5de-70c5-4e39-882e-3fe97485c71d",
   "metadata": {},
   "source": [
    "redo the wordcloud"
   ]
  },
  {
   "cell_type": "code",
   "execution_count": 10,
   "id": "75cf0975-cb60-4a80-bf3b-540d0a8ac27d",
   "metadata": {},
   "outputs": [],
   "source": [
    "# positive_reviews = ' '.join(train_data[train_data['label'] == 1]['text'])\n",
    "# negative_reviews = ' '.join(train_data[train_data['label'] == 0]['text'])\n",
    "\n",
    "# wordcloud_positive = WordCloud(width=800, height=400).generate(positive_reviews)\n",
    "# wordcloud_negative = WordCloud(width=800, height=400).generate(negative_reviews)\n",
    "\n",
    "# plt.figure(figsize=(12, 6))\n",
    "# plt.subplot(1, 2, 1)\n",
    "# plt.imshow(wordcloud_positive, interpolation='bilinear')\n",
    "# plt.axis('off')\n",
    "# plt.title('Positive Reviews')\n",
    "\n",
    "# plt.subplot(1, 2, 2)\n",
    "# plt.imshow(wordcloud_negative, interpolation='bilinear')\n",
    "# plt.axis('off')\n",
    "# plt.title('Negative Reviews')\n",
    "\n",
    "# plt.show()"
   ]
  },
  {
   "cell_type": "markdown",
   "id": "32bb5788-665b-4437-89b8-fe54d1ff9bdd",
   "metadata": {},
   "source": [
    "confident its good now, lets get into it"
   ]
  },
  {
   "cell_type": "code",
   "execution_count": 6,
   "id": "769a973a-4733-4818-8978-441ca5ed736f",
   "metadata": {},
   "outputs": [],
   "source": [
    "from sklearn.feature_extraction.text import TfidfVectorizer\n",
    "from sklearn.svm import SVC\n",
    "from sklearn.metrics import classification_report, accuracy_score"
   ]
  },
  {
   "cell_type": "markdown",
   "id": "ec88e9eb-80d3-4eb2-ab10-a82bd45da031",
   "metadata": {},
   "source": [
    "set up data"
   ]
  },
  {
   "cell_type": "code",
   "execution_count": 7,
   "id": "27eaa8ed-d2d7-4e12-babf-b41b7011e8c9",
   "metadata": {},
   "outputs": [],
   "source": [
    "vectorized = TfidfVectorizer()\n",
    "\n",
    "# training data\n",
    "X_train = vectorized.fit_transform(train_data['text'])\n",
    "y_train = train_data['label']\n",
    "\n",
    "# testing data\n",
    "X_test = vectorized.transform(test_data['text'])\n",
    "y_test = test_data['label']"
   ]
  },
  {
   "cell_type": "markdown",
   "id": "ecc94814-6550-49ae-bfdf-c414f43dc288",
   "metadata": {},
   "source": [
    "grid search svm parameters"
   ]
  },
  {
   "cell_type": "code",
   "execution_count": null,
   "id": "b1b8bbd5-2f35-4165-aeef-5475a29390e0",
   "metadata": {},
   "outputs": [],
   "source": [
    "from sklearn.model_selection import GridSearchCV\n",
    "\n",
    "# Define the parameter grid\n",
    "param_grid = {'C': [0.1, 1, 10, 100], 'kernel': ['linear', 'rbf']}\n",
    "\n",
    "# Create a GridSearchCV object\n",
    "grid_search = GridSearchCV(SVC(), param_grid, cv=5, scoring='accuracy') # https://scikit-learn.org/dev/modules/generated/sklearn.model_selection.GridSearchCV.html\n",
    "\n",
    "# Fit it to the data\n",
    "grid_search.fit(X_train, y_train)\n",
    "\n",
    "# Print the best parameters and estimator\n",
    "print(f\"Best parameters: {grid_search.best_params_}\")\n",
    "print(f\"Best estimator: {grid_search.best_estimator_}\")\n",
    "\n",
    "# Use the best estimator to make predictions\n",
    "best_svm = grid_search.best_estimator_\n",
    "\n",
    "svm_start_pred = time.time()\n",
    "svm_y_pred = best_svm.predict(X_test)\n",
    "svm_end_pred = time.time()\n",
    "svm_pred_time = round((svm_end_pred - svm_start_pred) / 60, 2)\n",
    "print(\"Time to predict with best SVM: \", svm_pred_time, \" minutes.\")\n",
    "\n",
    "print(f'Accuracy: {accuracy_score(y_test, svm_y_pred)}')\n",
    "print(classification_report(y_test, svm_y_pred))"
   ]
  },
  {
   "cell_type": "code",
   "execution_count": 13,
   "id": "444d9be4-1f6d-4e9d-9a24-b47f2f697ad3",
   "metadata": {},
   "outputs": [
    {
     "name": "stdout",
     "output_type": "stream",
     "text": [
      "Time to train SVM:  14.95  minutes.\n"
     ]
    }
   ],
   "source": [
    "svm_start_train = time.time()\n",
    "svm = SVC(kernel = 'linear') # https://scikit-learn.org/stable/modules/generated/sklearn.svm.SVC.html#sklearn.svm.SVC\n",
    "svm.fit(X_train, y_train)\n",
    "svm_end_train = time.time()\n",
    "svm_fit_time = round((svm_end_train - svm_start_train) / 60,2)\n",
    "print(\"Time to train SVM: \", svm_fit_time, \" minutes.\")\n",
    "\n",
    "svm_start_pred = time.time()\n",
    "svm_y_pred = svm.predict(X_test)\n",
    "svm_end_pred = time.tim()\n",
    "svm_pred_time = round((svm_end_pred - svm_start_pred) / 60,2)\n",
    "print(\"Time to predict SVM: \", svm_pred_time, \" minutes.\")\n",
    "\n",
    "print(f'Accuracy: {accuracy_score(y_test, svm_y_pred)}')\n",
    "print(classification_report(y_test, svm_y_pred))"
   ]
  },
  {
   "cell_type": "markdown",
   "id": "042ee2b1-5562-4abc-be92-f7a38236f5f2",
   "metadata": {},
   "source": [
    "do it for NB using the same organization"
   ]
  },
  {
   "cell_type": "code",
   "execution_count": 21,
   "id": "c8657b56-467c-404e-ad4b-5d78aa611b85",
   "metadata": {},
   "outputs": [],
   "source": [
    "from sklearn.naive_bayes import MultinomialNB"
   ]
  },
  {
   "cell_type": "code",
   "execution_count": 26,
   "id": "52d8bbc2-6d15-44eb-8619-5f85c30bbf63",
   "metadata": {},
   "outputs": [
    {
     "name": "stdout",
     "output_type": "stream",
     "text": [
      "Time to predict NB:  0.0  minutes.\n",
      "Time to fit NB:  0.0  minutes.\n",
      "Accuracy: 0.83024\n",
      "              precision    recall  f1-score   support\n",
      "\n",
      "           0       0.80      0.89      0.84     12500\n",
      "           1       0.87      0.77      0.82     12500\n",
      "\n",
      "    accuracy                           0.83     25000\n",
      "   macro avg       0.83      0.83      0.83     25000\n",
      "weighted avg       0.83      0.83      0.83     25000\n",
      "\n"
     ]
    }
   ],
   "source": [
    "nb_start_train = time.time()\n",
    "nb = MultinomialNB() # https://scikit-learn.org/0.24/modules/generated/sklearn.naive_bayes.MultinomialNB.html\n",
    "nb.fit(X_train, y_train)\n",
    "nb_end_train = time.time()\n",
    "nb_fit_time = round((nb_end_train - nb_start_train) / 60,2)\n",
    "print(\"Time to predict NB: \", nb_fit_time, \" minutes.\")\n",
    "\n",
    "nb_start_test = time.time()\n",
    "nb_y_pred = nb.predict(X_test)\n",
    "nb_end_test = time.time()\n",
    "nb_pred_time = round((nb_end_test - nb_start_test) / 60,2)\n",
    "print(\"Time to fit NB: \", nb_pred_time, \" minutes.\")\n",
    "\n",
    "print(f'Accuracy: {accuracy_score(y_test, nb_y_pred)}')\n",
    "print(classification_report(y_test, nb_y_pred))"
   ]
  },
  {
   "cell_type": "code",
   "execution_count": 27,
   "id": "d3bbef93-35fc-4762-a2d3-b30041fc7a74",
   "metadata": {},
   "outputs": [],
   "source": [
    "from sklearn.linear_model import LogisticRegression"
   ]
  },
  {
   "cell_type": "code",
   "execution_count": 28,
   "id": "467d65d4-6f62-4ba4-9240-b65d14fcdb1f",
   "metadata": {},
   "outputs": [
    {
     "name": "stdout",
     "output_type": "stream",
     "text": [
      "Time to predict NB:  0.05  minutes.\n",
      "Time to fit NB:  0.0  minutes.\n",
      "Accuracy: 0.88284\n",
      "              precision    recall  f1-score   support\n",
      "\n",
      "           0       0.88      0.88      0.88     12500\n",
      "           1       0.88      0.88      0.88     12500\n",
      "\n",
      "    accuracy                           0.88     25000\n",
      "   macro avg       0.88      0.88      0.88     25000\n",
      "weighted avg       0.88      0.88      0.88     25000\n",
      "\n"
     ]
    }
   ],
   "source": [
    "lr_start_train = time.time()\n",
    "lr = LogisticRegression() # https://scikit-learn.org/1.5/modules/generated/sklearn.linear_model.LogisticRegression.html\n",
    "lr.fit(X_train, y_train)\n",
    "lr_end_train = time.time()\n",
    "lr_fit_time = round((lr_end_train - lr_start_train) / 60,2)\n",
    "print(\"Time to predict NB: \", lr_fit_time, \" minutes.\")\n",
    "\n",
    "lr_start_test = time.time()\n",
    "lr_y_pred = lr.predict(X_test)\n",
    "lr_end_test = time.time()\n",
    "lr_pred_time = round((lr_end_test - lr_start_test) / 60,2)\n",
    "print(\"Time to fit NB: \", lr_pred_time, \" minutes.\")\n",
    "\n",
    "print(f'Accuracy: {accuracy_score(y_test, lr_y_pred)}')\n",
    "print(classification_report(y_test, lr_y_pred))"
   ]
  },
  {
   "cell_type": "markdown",
   "id": "88b5cd7d-1e0b-4d9c-b99f-bd1bf5b63522",
   "metadata": {},
   "source": [
    "possible CNN code"
   ]
  },
  {
   "cell_type": "code",
   "execution_count": null,
   "id": "8b0acf1a-bec7-4829-8202-17f14adcfc66",
   "metadata": {},
   "outputs": [],
   "source": [
    "import numpy as np\n",
    "from sklearn.preprocessing import LabelEncoder\n",
    "from keras.preprocessing.sequence import pad_sequences\n",
    "from keras.models import Sequential\n",
    "from keras.layers import Embedding, Conv1D, MaxPooling1D, Flatten, Dense\n",
    "\n",
    "\n",
    "# Encode labels\n",
    "label_encoder = LabelEncoder()\n",
    "train_data['label'] = label_encoder.fit_transform(train_data['label'])\n",
    "\n",
    "# Tokenize the text data\n",
    "max_words = 10000\n",
    "max_len = 100\n",
    "\n",
    "tokenizer = Tokenizer(num_words=max_words)\n",
    "tokenizer.fit_on_texts(X_train)\n",
    "\n",
    "X_train_seq = tokenizer.texts_to_sequences(X_train)\n",
    "X_test_seq = tokenizer.texts_to_sequences(X_test)\n",
    "\n",
    "X_train_pad = pad_sequences(X_train_seq, maxlen=max_len)\n",
    "X_test_pad = pad_sequences(X_test_seq, maxlen=max_len)\n",
    "\n",
    "# Build the CNN model\n",
    "model = Sequential()\n",
    "model.add(Embedding(input_dim=max_words, output_dim=128, input_length=max_len))\n",
    "model.add(Conv1D(filters=64, kernel_size=5, activation='relu'))\n",
    "model.add(MaxPooling1D(pool_size=2))\n",
    "model.add(Flatten())\n",
    "model.add(Dense(1, activation='sigmoid'))  # For binary classification\n",
    "\n",
    "# Compile the model\n",
    "model.compile(optimizer='adam', loss='binary_crossentropy', metrics=['accuracy'])\n",
    "\n",
    "# Train the model\n",
    "model.fit(X_train_pad, y_train, epochs=5, batch_size=32, validation_split=0.2)\n",
    "\n",
    "# Evaluate the model\n",
    "loss, accuracy = model.evaluate(X_test_pad, y_test)\n",
    "print(f'Test accuracy: {accuracy}')\n"
   ]
  },
  {
   "cell_type": "code",
   "execution_count": null,
   "id": "c44849af-bb97-47ee-8cf4-be153142d04c",
   "metadata": {},
   "outputs": [],
   "source": []
  }
 ],
 "metadata": {
  "kernelspec": {
   "display_name": "Python 3 (ipykernel)",
   "language": "python",
   "name": "python3"
  },
  "language_info": {
   "codemirror_mode": {
    "name": "ipython",
    "version": 3
   },
   "file_extension": ".py",
   "mimetype": "text/x-python",
   "name": "python",
   "nbconvert_exporter": "python",
   "pygments_lexer": "ipython3",
   "version": "3.11.7"
  }
 },
 "nbformat": 4,
 "nbformat_minor": 5
}
